{
 "cells": [
  {
   "cell_type": "code",
   "execution_count": 16,
   "metadata": {},
   "outputs": [
    {
     "data": {
      "text/plain": [
       "merge (generic function with 1 method)"
      ]
     },
     "execution_count": 16,
     "metadata": {},
     "output_type": "execute_result"
    }
   ],
   "source": [
    "function mergeSort(arr)\n",
    "    if length(arr) == 0 || length(arr) == 1\n",
    "        return arr\n",
    "    else\n",
    "        midFloat = floor(length(arr) / 2)\n",
    "        mid = convert(Int64, midFloat)\n",
    "        #display(mid)\n",
    "        arrLeft = mergeSort(arr[1:mid])\n",
    "        arrRight = mergeSort(arr[mid+1:length(arr)])\n",
    "        \n",
    "        return merge(arrLeft, arrRight)\n",
    "    end\n",
    "end\n",
    "\n",
    "function merge(arrLeft, arrRight)\n",
    "    temp = Array{Int64}(0)\n",
    "    i = 1\n",
    "    #display(arrLeft)\n",
    "    #display(arrRight)\n",
    "    while length(arrLeft) != 0 && length(arrRight) != 0\n",
    "        if arrLeft[1] < arrRight[1]\n",
    "            append!(temp, arrLeft[1])\n",
    "            deleteat!(arrLeft, 1)\n",
    "        else\n",
    "            append!(temp, arrRight[i])\n",
    "            deleteat!(arrRight, 1)\n",
    "        end\n",
    "    end\n",
    "    \n",
    "    if length(arrLeft) == 0\n",
    "        append!(temp, arrRight[1])\n",
    "    else\n",
    "        append!(temp, arrLeft[1])\n",
    "    end\n",
    "    \n",
    "    return temp\n",
    "end"
   ]
  },
  {
   "cell_type": "code",
   "execution_count": 17,
   "metadata": {},
   "outputs": [
    {
     "data": {
      "text/plain": [
       "6-element Array{Int64,1}:\n",
       " 0\n",
       " 1\n",
       " 2\n",
       " 4\n",
       " 5\n",
       " 8"
      ]
     },
     "execution_count": 17,
     "metadata": {},
     "output_type": "execute_result"
    }
   ],
   "source": [
    "mergeSort([4,8,2,5,1,0])"
   ]
  },
  {
   "cell_type": "code",
   "execution_count": 1,
   "metadata": {},
   "outputs": [
    {
     "data": {
      "text/plain": [
       "4.0"
      ]
     },
     "execution_count": 1,
     "metadata": {},
     "output_type": "execute_result"
    }
   ],
   "source": []
  },
  {
   "cell_type": "code",
   "execution_count": 2,
   "metadata": {},
   "outputs": [
    {
     "data": {
      "text/plain": [
       "4"
      ]
     },
     "execution_count": 2,
     "metadata": {},
     "output_type": "execute_result"
    }
   ],
   "source": [
    "convert(Int64, float)"
   ]
  },
  {
   "cell_type": "code",
   "execution_count": 7,
   "metadata": {},
   "outputs": [
    {
     "data": {
      "text/plain": [
       "6-element Array{Int64,1}:\n",
       " 1\n",
       " 2\n",
       " 3\n",
       " 4\n",
       " 5\n",
       " 6"
      ]
     },
     "execution_count": 7,
     "metadata": {},
     "output_type": "execute_result"
    }
   ],
   "source": [
    "test = [1,2,3,4,5,6]"
   ]
  },
  {
   "cell_type": "raw",
   "metadata": {},
   "source": []
  },
  {
   "cell_type": "code",
   "execution_count": 9,
   "metadata": {},
   "outputs": [
    {
     "data": {
      "text/plain": [
       "3"
      ]
     },
     "execution_count": 9,
     "metadata": {},
     "output_type": "execute_result"
    }
   ],
   "source": [
    "convert(Int64, floor(length(test)/2))"
   ]
  },
  {
   "cell_type": "code",
   "execution_count": null,
   "metadata": {},
   "outputs": [],
   "source": []
  },
  {
   "cell_type": "code",
   "execution_count": null,
   "metadata": {},
   "outputs": [],
   "source": [
    "mergeSort([4,8,2,5,1,0])"
   ]
  },
  {
   "cell_type": "code",
   "execution_count": 25,
   "metadata": {},
   "outputs": [
    {
     "data": {
      "text/plain": [
       "PyObject <function convert at 0x7f362fa89758>"
      ]
     },
     "execution_count": 25,
     "metadata": {},
     "output_type": "execute_result"
    }
   ],
   "source": [
    "using PyCall\n",
    "py\"\"\"\n",
    "import math\n",
    "\n",
    "def mergeSort_py(arr):\n",
    "    if len(arr) == 0 or len(arr) == 1:\n",
    "        return arr\n",
    "    else:\n",
    "        mid = int(math.floor(len(arr) / 2))\n",
    "        arrLeft = mergeSort_py(arr[:mid])\n",
    "        arrRight = mergeSort_py(arr[mid:])\n",
    "        return merge(arrLeft, arrRight)\n",
    "\n",
    "def merge(arrLeft, arrRight):\n",
    "    temp = []\n",
    "    while arrLeft and arrRight:\n",
    "        if arrLeft[0] < arrRight[0]:\n",
    "            temp.append(arrLeft[0])\n",
    "            arrLeft.remove(arrLeft[0])\n",
    "        else:\n",
    "            temp.append(arrRight[0])\n",
    "            arrRight.remove(arrRight[0])\n",
    "    if len(arrLeft) == 0:\n",
    "        temp += arrRight\n",
    "    else:\n",
    "        temp += arrLeft\n",
    "    return temp\n",
    "\n",
    "def convert(arr):\n",
    "    return mergeSort_py(arr.tolist())\n",
    "\"\"\"\n",
    "py_mergeSort = py\"convert\""
   ]
  },
  {
   "cell_type": "code",
   "execution_count": 26,
   "metadata": {
    "scrolled": true
   },
   "outputs": [
    {
     "data": {
      "text/plain": [
       "6-element Array{BigInt,1}:\n",
       " 1\n",
       " 2\n",
       " 3\n",
       " 5\n",
       " 6\n",
       " 7"
      ]
     },
     "execution_count": 26,
     "metadata": {},
     "output_type": "execute_result"
    }
   ],
   "source": [
    "py_mergeSort(PyObject([5,3,6,2,7,1]))"
   ]
  },
  {
   "cell_type": "code",
   "execution_count": null,
   "metadata": {},
   "outputs": [],
   "source": [
    "a = rand(1:100, 10, 1)\n",
    "a2 = rand(1:100, 100, 1)\n",
    "a3 = rand(1:100, 1000, 1)\n",
    "a4 = rand(1:100, 10000, 1)\n",
    "a5 = rand(1:100, 100000, 1)\n",
    "a6 = rand(1:100, 1000000, 1)\n",
    "a7 = rand(1:100, 10000000, 1)\n",
    "\n",
    "d = Dict()\n",
    "using BenchmarkTools\n",
    "    \n",
    "julia_1 = @benchmark mergeSort($a)\n",
    "d[\"Julia mergeSort 10^1\"] = minimum(julia_1.times) / 1e6\n",
    "julia_2 = @benchmark mergeSort($a2)\n",
    "d[\"Julia mergeSort 10^2\"] = minimum(julia_2.times) / 1e6\n",
    "julia_3 = @benchmark mergeSort($a3)\n",
    "d[\"Julia mergeSort 10^3\"] = minimum(julia_3.times) / 1e6\n",
    "julia_4 = @benchmark mergeSort($a4)\n",
    "d[\"Julia mergeSort 10^4\"] = minimum(julia_4.times) / 1e6\n",
    "julia_5 = @benchmark mergeSort($a5)\n",
    "d[\"Julia mergeSort 10^5\"] = minimum(julia_5.times) / 1e6\n",
    "julia_6 = @benchmark mergeSort($a6)\n",
    "d[\"Julia mergeSort 10^6\"] = minimum(julia_6.times) / 1e6\n",
    "julia_7 = @benchmark mergeSort($a7)\n",
    "d[\"Julia mergeSort 10^7\"] = minimum(julia_7.times) / 1e6\n",
    "\n",
    "python_1 = @benchmark mergeSort($[6,2,5,4,3,1])\n",
    "d[\"Python mergeSort 10^1\"] = minimum(python_1.times) / 1e6\n",
    "python_2 = @benchmark mergeSort($a2)\n",
    "d[\"Julia mergeSort 10^2\"] = minimum(python_2.times) / 1e6\n",
    "python_3 = @benchmark mergeSort($a3)\n",
    "d[\"Julia mergeSort 10^3\"] = minimum(python_3.times) / 1e6\n",
    "python_4 = @benchmark mergeSort($a4)\n",
    "d[\"Julia mergeSort 10^4\"] = minimum(python_4.times) / 1e6\n",
    "python_5 = @benchmark mergeSort($a5)\n",
    "d[\"Julia mergeSort 10^5\"] = minimum(python_5.times) / 1e6\n",
    "python_6 = @benchmark mergeSort($a6)\n",
    "d[\"Julia mergeSort 10^6\"] = minimum(python_6.times) / 1e6\n",
    "python_7 = @benchmark mergeSort($a7)\n",
    "d[\"Julia mergeSort 10^7\"] = minimum(python_7.times) / 1e6\n",
    "\n",
    "d"
   ]
  },
  {
   "cell_type": "code",
   "execution_count": 25,
   "metadata": {},
   "outputs": [
    {
     "data": {
      "text/plain": [
       "10-element Array{Int64,1}:\n",
       " 14\n",
       " 62\n",
       " 68\n",
       " 72\n",
       " 35\n",
       " 45\n",
       " 38\n",
       " 29\n",
       " 27\n",
       " 46"
      ]
     },
     "execution_count": 25,
     "metadata": {},
     "output_type": "execute_result"
    }
   ],
   "source": [
    "randperm(100)[1:10]"
   ]
  },
  {
   "cell_type": "code",
   "execution_count": 23,
   "metadata": {},
   "outputs": [
    {
     "name": "stdout",
     "output_type": "stream",
     "text": [
      "1\n",
      "2\n",
      "4\n",
      "5\n"
     ]
    }
   ],
   "source": [
    "arr = [1,2,4,5]\n",
    "for i in arr\n",
    "    println(i)\n",
    "end"
   ]
  },
  {
   "cell_type": "code",
   "execution_count": null,
   "metadata": {},
   "outputs": [],
   "source": []
  }
 ],
 "metadata": {
  "kernelspec": {
   "display_name": "Julia 0.6.2",
   "language": "julia",
   "name": "julia-0.6"
  },
  "language_info": {
   "file_extension": ".jl",
   "mimetype": "application/julia",
   "name": "julia",
   "version": "0.6.2"
  }
 },
 "nbformat": 4,
 "nbformat_minor": 2
}
