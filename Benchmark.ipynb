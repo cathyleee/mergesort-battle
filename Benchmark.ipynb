{
 "cells": [
  {
   "cell_type": "code",
   "execution_count": 3,
   "metadata": {},
   "outputs": [
    {
     "data": {
      "text/plain": [
       "merge (generic function with 1 method)"
      ]
     },
     "execution_count": 3,
     "metadata": {},
     "output_type": "execute_result"
    }
   ],
   "source": [
    "function mergeSort(arr)\n",
    "    # base case\n",
    "    if length(arr) == 0 || length(arr) == 1\n",
    "        return arr\n",
    "    else\n",
    "        # compute the middle index of the array \n",
    "        midFloat = floor(length(arr) / 2)\n",
    "        # convert the middle index into an integer for indexing\n",
    "        mid = convert(Int64, midFloat)\n",
    "        # divide the input array into 2 subarrays\n",
    "        arrLeft = mergeSort(arr[1:mid])\n",
    "        arrRight = mergeSort(arr[mid+1:length(arr)])\n",
    "        # merge the 2 arrays and sort them simultaneously \n",
    "        return merge(arrLeft, arrRight)\n",
    "    end\n",
    "end\n",
    "\n",
    "function merge(arrLeft, arrRight)\n",
    "    # create an empty array to store the sorted integers\n",
    "    temp = Array{Int64}(0)\n",
    "    # while there are still elements in the 2 subarrays\n",
    "    while length(arrLeft) != 0 && length(arrRight) != 0\n",
    "        # append the smaller first element to temp\n",
    "        if arrLeft[1] < arrRight[1]\n",
    "            append!(temp, arrLeft[1])\n",
    "            deleteat!(arrLeft, 1)\n",
    "        else\n",
    "            append!(temp, arrRight[i])\n",
    "            deleteat!(arrRight, 1)\n",
    "        end\n",
    "    end\n",
    "    \n",
    "    # if there are leftover elements in the 2 subarrays\n",
    "    if length(arrLeft) == 0\n",
    "        append!(temp, arrRight[1])\n",
    "    else\n",
    "        append!(temp, arrLeft[1])\n",
    "    end\n",
    "    \n",
    "    return temp\n",
    "end"
   ]
  },
  {
   "cell_type": "code",
   "execution_count": 21,
   "metadata": {},
   "outputs": [
    {
     "data": {
      "text/plain": [
       "PyObject <function convertInputArr at 0x7fab146e25f0>"
      ]
     },
     "execution_count": 21,
     "metadata": {},
     "output_type": "execute_result"
    }
   ],
   "source": [
    "using PyCall\n",
    "py\"\"\"\n",
    "import math\n",
    "\n",
    "def mergeSort_py(arr):\n",
    "    '''Divides the input array into singleton lists\n",
    "    to be merged and sorted.'''\n",
    "\n",
    "    # base case\n",
    "    if len(arr) == 0 or len(arr) == 1:\n",
    "        return arr\n",
    "    else:\n",
    "        # compute the middle index of the array \n",
    "        mid = int(math.floor(len(arr) / 2))\n",
    "        # divide the input array into 2 subarrays\n",
    "        arrLeft = mergeSort_py(arr[:mid])\n",
    "        arrRight = mergeSort_py(arr[mid:])\n",
    "        # merge the 2 arrays and sort them simultaneously \n",
    "        return merge(arrLeft, arrRight)\n",
    "\n",
    "def merge(arrLeft, arrRight):\n",
    "    '''A function that merges 2 subarrays,\n",
    "    simultaneously sorting them.'''\n",
    "\n",
    "    # create an empty array to store the sorted integers\n",
    "    temp = []\n",
    "    # while there are still elements in the subarrays\n",
    "    while arrLeft and arrRight:\n",
    "        # append the smaller first element to temp\n",
    "        if arrLeft[0] < arrRight[0]:\n",
    "            temp.append(arrLeft[0])\n",
    "            arrLeft.remove(arrLeft[0])\n",
    "        else:\n",
    "            temp.append(arrRight[0])\n",
    "            arrRight.remove(arrRight[0])\n",
    "\n",
    "    # if there are still elements leftover in the 2 subarrays\n",
    "    if len(arrLeft) == 0:\n",
    "        temp += arrRight\n",
    "    else:\n",
    "        temp += arrLeft\n",
    "    return temp\n",
    "\n",
    "def convertInputArr(arr):\n",
    "    '''Converts numpy input array to a list for sorting.'''\n",
    "\n",
    "    return mergeSort_py(arr.tolist())\n",
    "\"\"\"\n",
    "py_mergeSort = py\"convertInputArr\""
   ]
  },
  {
   "cell_type": "code",
   "execution_count": 22,
   "metadata": {
    "scrolled": true
   },
   "outputs": [
    {
     "data": {
      "text/plain": [
       "6-element Array{BigInt,1}:\n",
       " 1\n",
       " 2\n",
       " 3\n",
       " 5\n",
       " 6\n",
       " 7"
      ]
     },
     "execution_count": 22,
     "metadata": {},
     "output_type": "execute_result"
    }
   ],
   "source": [
    "py_mergeSort(PyObject([5,3,6,2,7,1]))"
   ]
  },
  {
   "cell_type": "code",
   "execution_count": 33,
   "metadata": {},
   "outputs": [],
   "source": [
    "# randomly generated arrays of size 10^k, k = 1...7\n",
    "a = rand(1:100, 10, 1)\n",
    "a2 = rand(1:100, 100, 1)\n",
    "a3 = rand(1:100, 1000, 1)\n",
    "a4 = rand(1:100, 10000, 1)\n",
    "a5 = rand(1:100, 100000, 1)\n",
    "a6 = rand(1:100, 1000000, 1)\n",
    "a7 = rand(1:100, 10000000, 1)\n",
    "\n",
    "# create dictionaries for each of the input arrays\n",
    "# to facilitate better comparisons between the 4 different sorts\n",
    "# each dictionary is created for each value of k\n",
    "k1Dict = Dict()\n",
    "k2Dict = Dict()\n",
    "k3Dict = Dict()\n",
    "k4Dict = Dict()\n",
    "k5Dict = Dict()\n",
    "k6Dict = Dict()\n",
    "k7Dict = Dict()\n",
    "\n",
    "using BenchmarkTools"
   ]
  },
  {
   "cell_type": "code",
   "execution_count": 6,
   "metadata": {},
   "outputs": [
    {
     "data": {
      "text/plain": [
       "7202.662046"
      ]
     },
     "execution_count": 6,
     "metadata": {},
     "output_type": "execute_result"
    }
   ],
   "source": [
    "julia1 = @benchmark mergeSort($a)\n",
    "k1Dict[\"Julia by-hand mergeSort()\"] = minimum(julia1.times) / 1e6\n",
    "julia2 = @benchmark mergeSort($a2)\n",
    "k2Dict[\"Julia by-hand mergeSort()\"] = minimum(julia2.times) / 1e6\n",
    "julia3 = @benchmark mergeSort($a3)\n",
    "k3Dict[\"Julia by-hand mergeSort()\"] = minimum(julia3.times) / 1e6\n",
    "julia4 = @benchmark mergeSort($a4)\n",
    "k4Dict[\"Julia by-hand mergeSort()\"] = minimum(julia4.times) / 1e6\n",
    "julia5 = @benchmark mergeSort($a5)\n",
    "k5Dict[\"Julia by-hand mergeSort()\"] = minimum(julia5.times) / 1e6\n",
    "julia6 = @benchmark mergeSort($a6)\n",
    "k6Dict[\"Julia by-hand mergeSort()\"] = minimum(julia6.times) / 1e6\n",
    "julia7 = @benchmark mergeSort($a7)\n",
    "k7Dict[\"Julia by-hand mergeSort()\"] = minimum(julia7.times) / 1e6"
   ]
  },
  {
   "cell_type": "code",
   "execution_count": 25,
   "metadata": {},
   "outputs": [
    {
     "data": {
      "text/plain": [
       "7072.154161"
      ]
     },
     "execution_count": 25,
     "metadata": {},
     "output_type": "execute_result"
    }
   ],
   "source": [
    "python1 = @benchmark mergeSort($a)\n",
    "k1Dict[\"Python by-hand mergeSort()\"] = minimum(python1.times) / 1e6\n",
    "python2 = @benchmark mergeSort($a2)\n",
    "k2Dict[\"Python by-hand mergeSort()\"] = minimum(python2.times) / 1e6\n",
    "python3 = @benchmark mergeSort($a3)\n",
    "k3Dict[\"Python by-hand mergeSort()\"] = minimum(python3.times) / 1e6\n",
    "python4 = @benchmark mergeSort($a4)\n",
    "k4Dict[\"Python by-hand mergeSort()\"] = minimum(python4.times) / 1e6\n",
    "python5 = @benchmark mergeSort($a5)\n",
    "k5Dict[\"Python by-hand mergeSort()\"] = minimum(python5.times) / 1e6\n",
    "python6 = @benchmark mergeSort($a6)\n",
    "k6Dict[\"Python by-hand mergeSort()\"] = minimum(python6.times) / 1e6\n",
    "python7 = @benchmark mergeSort($a7)\n",
    "k7Dict[\"Python by-hand mergeSort()\"] = minimum(python7.times) / 1e6"
   ]
  },
  {
   "cell_type": "code",
   "execution_count": 24,
   "metadata": {},
   "outputs": [
    {
     "data": {
      "text/plain": [
       "451.77331"
      ]
     },
     "execution_count": 24,
     "metadata": {},
     "output_type": "execute_result"
    }
   ],
   "source": [
    "juliaBI1 = @benchmark $sort($a,1)\n",
    "k1Dict[\"Julia built-in .sort()\"] = minimum(juliaBI1.times) / 1e6\n",
    "juliaBI2 = @benchmark $sort($a2,1)\n",
    "k2Dict[\"Julia built-in .sort()\"] = minimum(juliaBI2.times) / 1e6\n",
    "juliaBI3 = @benchmark $sort($a3,1)\n",
    "k3Dict[\"Julia built-in .sort()\"] = minimum(juliaBI3.times) / 1e6\n",
    "juliaBI4 = @benchmark $sort($a4,1)\n",
    "k4Dict[\"Julia built-in .sort()\"] = minimum(juliaBI4.times) / 1e6\n",
    "juliaBI5 = @benchmark $sort($a5,1)\n",
    "k5Dict[\"Julia built-in .sort()\"] = minimum(juliaBI5.times) / 1e6\n",
    "juliaBI6 = @benchmark $sort($a6,1)\n",
    "k6Dict[\"Julia built-in .sort()\"] = minimum(juliaBI6.times) / 1e6\n",
    "juliaBI7 = @benchmark $sort($a7,1)\n",
    "k7Dict[\"Julia built-in .sort()\"] = minimum(juliaBI7.times) / 1e6"
   ]
  },
  {
   "cell_type": "code",
   "execution_count": 16,
   "metadata": {},
   "outputs": [
    {
     "data": {
      "text/plain": [
       "74137.633362"
      ]
     },
     "execution_count": 16,
     "metadata": {},
     "output_type": "execute_result"
    }
   ],
   "source": [
    "# get the Python built-in .sorted() function\n",
    "pysort = pybuiltin(\"sorted\")\n",
    "\n",
    "pythonBI1 = @benchmark $pysort(PyCall.array2py(a, 1, 1))\n",
    "k1Dict[\"Python built-in .sorted()\"] = minimum(pythonBI1.times) / 1e6\n",
    "pythonBI2 = @benchmark $pysort(PyCall.array2py(a2, 1, 1))\n",
    "k2Dict[\"Python built-in .sorted()\"] = minimum(pythonBI2.times) / 1e6\n",
    "pythonBI3 = @benchmark $pysort(PyCall.array2py(a3, 1, 1))\n",
    "k3Dict[\"Python built-in .sorted()\"] = minimum(pythonBI3.times) / 1e6\n",
    "pythonBI4 = @benchmark $pysort(PyCall.array2py(a4, 1, 1))\n",
    "k4Dict[\"Python built-in .sorted()\"] = minimum(pythonBI4.times) / 1e6\n",
    "pythonBI5 = @benchmark $pysort(PyCall.array2py(a5, 1, 1))\n",
    "k5Dict[\"Python built-in .sorted()\"] = minimum(pythonBI5.times) / 1e6\n",
    "pythonBI6 = @benchmark $pysort(PyCall.array2py(a6, 1, 1))\n",
    "k6Dict[\"Python built-in .sorted()\"] = minimum(pythonBI6.times) / 1e6\n",
    "pythonBI7 = @benchmark $pysort(PyCall.array2py(a7, 1, 1))\n",
    "k7Dict[\"Python built-in .sorted()\"] = minimum(pythonBI7.times) / 1e6"
   ]
  },
  {
   "cell_type": "code",
   "execution_count": 26,
   "metadata": {},
   "outputs": [
    {
     "data": {
      "text/plain": [
       "Dict{Any,Any} with 5 entries:\n",
       "  \"Julia built-in .sort()\"     => 0.000166013\n",
       "  \"Python built-in .sorted()\"  => 0.220508\n",
       "  \"Python by-hand mergeSort()\" => 0.0017501\n",
       "  \"Julia mergeSort 10^1\"       => 0.00167\n",
       "  \"Python mergeSort 10^1\"      => 0.00172"
      ]
     },
     "execution_count": 26,
     "metadata": {},
     "output_type": "execute_result"
    }
   ],
   "source": [
    "k1Dict"
   ]
  },
  {
   "cell_type": "code",
   "execution_count": 27,
   "metadata": {},
   "outputs": [
    {
     "data": {
      "text/plain": [
       "Dict{Any,Any} with 5 entries:\n",
       "  \"Julia built-in .sort()\"     => 0.000725214\n",
       "  \"Python built-in .sorted()\"  => 0.59632\n",
       "  \"Julia mergeSort 10^2\"       => 0.022701\n",
       "  \"Python by-hand mergeSort()\" => 0.0233\n",
       "  \"Python mergeSort 10^2\"      => 0.022401"
      ]
     },
     "execution_count": 27,
     "metadata": {},
     "output_type": "execute_result"
    }
   ],
   "source": [
    "k2Dict"
   ]
  },
  {
   "cell_type": "code",
   "execution_count": 28,
   "metadata": {},
   "outputs": [
    {
     "data": {
      "text/plain": [
       "Dict{Any,Any} with 5 entries:\n",
       "  \"Julia built-in .sort()\"     => 0.0134\n",
       "  \"Python built-in .sorted()\"  => 4.81737\n",
       "  \"Julia mergeSort 10^3\"       => 0.29071\n",
       "  \"Python by-hand mergeSort()\" => 0.29341\n",
       "  \"Python mergeSort 10^3\"      => 0.29301"
      ]
     },
     "execution_count": 28,
     "metadata": {},
     "output_type": "execute_result"
    }
   ],
   "source": [
    "k3Dict"
   ]
  },
  {
   "cell_type": "code",
   "execution_count": 29,
   "metadata": {},
   "outputs": [
    {
     "data": {
      "text/plain": [
       "Dict{Any,Any} with 5 entries:\n",
       "  \"Julia built-in .sort()\"     => 0.321411\n",
       "  \"Python built-in .sorted()\"  => 49.907\n",
       "  \"Python mergeSort 10^4\"      => 3.40932\n",
       "  \"Python by-hand mergeSort()\" => 3.53632\n",
       "  \"Julia mergeSort 10^4\"       => 3.20771"
      ]
     },
     "execution_count": 29,
     "metadata": {},
     "output_type": "execute_result"
    }
   ],
   "source": [
    "k4Dict"
   ]
  },
  {
   "cell_type": "code",
   "execution_count": 30,
   "metadata": {},
   "outputs": [
    {
     "data": {
      "text/plain": [
       "Dict{Any,Any} with 5 entries:\n",
       "  \"Julia built-in .sort()\"     => 3.55132\n",
       "  \"Python built-in .sorted()\"  => 575.714\n",
       "  \"Python by-hand mergeSort()\" => 43.978\n",
       "  \"Python mergeSort 10^5\"      => 45.1022\n",
       "  \"Julia mergeSort 10^5\"       => 45.3391"
      ]
     },
     "execution_count": 30,
     "metadata": {},
     "output_type": "execute_result"
    }
   ],
   "source": [
    "k5Dict"
   ]
  },
  {
   "cell_type": "code",
   "execution_count": 31,
   "metadata": {},
   "outputs": [
    {
     "data": {
      "text/plain": [
       "Dict{Any,Any} with 5 entries:\n",
       "  \"Julia built-in .sort()\"     => 38.9242\n",
       "  \"Python built-in .sorted()\"  => 7197.37\n",
       "  \"Julia mergeSort 10^6\"       => 537.348\n",
       "  \"Python mergeSort 10^6\"      => 524.907\n",
       "  \"Python by-hand mergeSort()\" => 555.131"
      ]
     },
     "execution_count": 31,
     "metadata": {},
     "output_type": "execute_result"
    }
   ],
   "source": [
    "k6Dict"
   ]
  },
  {
   "cell_type": "code",
   "execution_count": 32,
   "metadata": {},
   "outputs": [
    {
     "data": {
      "text/plain": [
       "Dict{Any,Any} with 5 entries:\n",
       "  \"Julia built-in .sort()\"     => 451.773\n",
       "  \"Python built-in .sorted()\"  => 74137.6\n",
       "  \"Python mergeSort 10^7\"      => 7567.07\n",
       "  \"Python by-hand mergeSort()\" => 7072.15\n",
       "  \"Julia mergeSort 10^7\"       => 7202.66"
      ]
     },
     "execution_count": 32,
     "metadata": {},
     "output_type": "execute_result"
    }
   ],
   "source": [
    "k7Dict"
   ]
  },
  {
   "cell_type": "code",
   "execution_count": null,
   "metadata": {},
   "outputs": [],
   "source": []
  }
 ],
 "metadata": {
  "kernelspec": {
   "display_name": "Julia 0.6.2",
   "language": "julia",
   "name": "julia-0.6"
  },
  "language_info": {
   "file_extension": ".jl",
   "mimetype": "application/julia",
   "name": "julia",
   "version": "0.6.2"
  }
 },
 "nbformat": 4,
 "nbformat_minor": 2
}
