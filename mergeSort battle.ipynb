{
 "cells": [
  {
   "cell_type": "code",
   "execution_count": 18,
   "metadata": {},
   "outputs": [
    {
     "data": {
      "text/plain": [
       "merge (generic function with 1 method)"
      ]
     },
     "execution_count": 18,
     "metadata": {},
     "output_type": "execute_result"
    }
   ],
   "source": [
    "function mergeSort(arr)\n",
    "    if length(arr) == 0 || length(arr) == 1\n",
    "        return arr\n",
    "    else\n",
    "        midFloat = floor(length(arr) / 2)\n",
    "        mid = convert(Int64, midFloat)\n",
    "        arrLeft = mergeSort(arr[1:mid])\n",
    "        arrRight = mergeSort(arr[mid+1:length(arr)])\n",
    "        \n",
    "        return merge(arrLeft, arrRight)\n",
    "    end\n",
    "end\n",
    "\n",
    "function merge(arrLeft, arrRight)\n",
    "    temp = Array{Int64}(0)\n",
    "    i = 1\n",
    "    display(arrLeft)\n",
    "    display(arrRight)\n",
    "    while length(arrLeft) != 0 && length(arrRight) != 0\n",
    "        if arrLeft[1] < arrRight[1]\n",
    "            append!(temp, arrLeft[1])\n",
    "            deleteat!(arrLeft, 1)\n",
    "        else\n",
    "            append!(temp, arrRight[i])\n",
    "            deleteat!(arrRight, 1)\n",
    "        end\n",
    "    end\n",
    "    \n",
    "    if length(arrLeft) == 0\n",
    "        vcat(temp, arrRight)\n",
    "    else\n",
    "        vcat(temp, arrLeft)\n",
    "    end\n",
    "    \n",
    "    return temp\n",
    "end     "
   ]
  },
  {
   "cell_type": "code",
   "execution_count": 19,
   "metadata": {},
   "outputs": [
    {
     "data": {
      "text/plain": [
       "1-element Array{Int64,1}:\n",
       " 8"
      ]
     },
     "metadata": {},
     "output_type": "display_data"
    },
    {
     "data": {
      "text/plain": [
       "1-element Array{Int64,1}:\n",
       " 2"
      ]
     },
     "metadata": {},
     "output_type": "display_data"
    },
    {
     "data": {
      "text/plain": [
       "1-element Array{Int64,1}:\n",
       " 4"
      ]
     },
     "metadata": {},
     "output_type": "display_data"
    },
    {
     "data": {
      "text/plain": [
       "1-element Array{Int64,1}:\n",
       " 2"
      ]
     },
     "metadata": {},
     "output_type": "display_data"
    },
    {
     "data": {
      "text/plain": [
       "1-element Array{Int64,1}:\n",
       " 1"
      ]
     },
     "metadata": {},
     "output_type": "display_data"
    },
    {
     "data": {
      "text/plain": [
       "1-element Array{Int64,1}:\n",
       " 0"
      ]
     },
     "metadata": {},
     "output_type": "display_data"
    },
    {
     "data": {
      "text/plain": [
       "1-element Array{Int64,1}:\n",
       " 5"
      ]
     },
     "metadata": {},
     "output_type": "display_data"
    },
    {
     "data": {
      "text/plain": [
       "1-element Array{Int64,1}:\n",
       " 0"
      ]
     },
     "metadata": {},
     "output_type": "display_data"
    },
    {
     "data": {
      "text/plain": [
       "1-element Array{Int64,1}:\n",
       " 2"
      ]
     },
     "metadata": {},
     "output_type": "display_data"
    },
    {
     "data": {
      "text/plain": [
       "1-element Array{Int64,1}:\n",
       " 0"
      ]
     },
     "metadata": {},
     "output_type": "display_data"
    },
    {
     "data": {
      "text/plain": [
       "1-element Array{Int64,1}:\n",
       " 0"
      ]
     },
     "execution_count": 19,
     "metadata": {},
     "output_type": "execute_result"
    }
   ],
   "source": [
    "mergeSort([4,8,2,5,1,0])"
   ]
  },
  {
   "cell_type": "code",
   "execution_count": 1,
   "metadata": {},
   "outputs": [
    {
     "data": {
      "text/plain": [
       "4.0"
      ]
     },
     "execution_count": 1,
     "metadata": {},
     "output_type": "execute_result"
    }
   ],
   "source": []
  },
  {
   "cell_type": "code",
   "execution_count": 2,
   "metadata": {},
   "outputs": [
    {
     "data": {
      "text/plain": [
       "4"
      ]
     },
     "execution_count": 2,
     "metadata": {},
     "output_type": "execute_result"
    }
   ],
   "source": [
    "convert(Int64, float)"
   ]
  },
  {
   "cell_type": "code",
   "execution_count": 7,
   "metadata": {},
   "outputs": [
    {
     "data": {
      "text/plain": [
       "6-element Array{Int64,1}:\n",
       " 1\n",
       " 2\n",
       " 3\n",
       " 4\n",
       " 5\n",
       " 6"
      ]
     },
     "execution_count": 7,
     "metadata": {},
     "output_type": "execute_result"
    }
   ],
   "source": [
    "test = [1,2,3,4,5,6]"
   ]
  },
  {
   "cell_type": "raw",
   "metadata": {},
   "source": []
  },
  {
   "cell_type": "code",
   "execution_count": 9,
   "metadata": {},
   "outputs": [
    {
     "data": {
      "text/plain": [
       "3"
      ]
     },
     "execution_count": 9,
     "metadata": {},
     "output_type": "execute_result"
    }
   ],
   "source": [
    "convert(Int64, floor(length(test)/2))"
   ]
  },
  {
   "cell_type": "code",
   "execution_count": null,
   "metadata": {},
   "outputs": [],
   "source": []
  },
  {
   "cell_type": "code",
   "execution_count": null,
   "metadata": {},
   "outputs": [],
   "source": [
    "mergeSort([4,8,2,5,1,0])"
   ]
  },
  {
   "cell_type": "code",
   "execution_count": 25,
   "metadata": {},
   "outputs": [
    {
     "data": {
      "text/plain": [
       "PyObject <function convert at 0x7f362fa89758>"
      ]
     },
     "execution_count": 25,
     "metadata": {},
     "output_type": "execute_result"
    }
   ],
   "source": [
    "using PyCall\n",
    "py\"\"\"\n",
    "import math\n",
    "\n",
    "def mergeSort_py(arr):\n",
    "    if len(arr) == 0 or len(arr) == 1:\n",
    "        return arr\n",
    "    else:\n",
    "        mid = int(math.floor(len(arr) / 2))\n",
    "        arrLeft = mergeSort_py(arr[:mid])\n",
    "        arrRight = mergeSort_py(arr[mid:])\n",
    "        return merge(arrLeft, arrRight)\n",
    "\n",
    "def merge(arrLeft, arrRight):\n",
    "    temp = []\n",
    "    while arrLeft and arrRight:\n",
    "        if arrLeft[0] < arrRight[0]:\n",
    "            temp.append(arrLeft[0])\n",
    "            arrLeft.remove(arrLeft[0])\n",
    "        else:\n",
    "            temp.append(arrRight[0])\n",
    "            arrRight.remove(arrRight[0])\n",
    "    if len(arrLeft) == 0:\n",
    "        temp += arrRight\n",
    "    else:\n",
    "        temp += arrLeft\n",
    "    return temp\n",
    "\n",
    "def convert(arr):\n",
    "    return mergeSort_py(arr.tolist())\n",
    "\"\"\"\n",
    "py_mergeSort = py\"convert\""
   ]
  },
  {
   "cell_type": "code",
   "execution_count": 26,
   "metadata": {},
   "outputs": [
    {
     "data": {
      "text/plain": [
       "6-element Array{BigInt,1}:\n",
       " 1\n",
       " 2\n",
       " 3\n",
       " 5\n",
       " 6\n",
       " 7"
      ]
     },
     "execution_count": 26,
     "metadata": {},
     "output_type": "execute_result"
    }
   ],
   "source": [
    "py_mergeSort(PyObject([5,3,6,2,7,1]))"
   ]
  },
  {
   "cell_type": "code",
   "execution_count": null,
   "metadata": {},
   "outputs": [],
   "source": []
  }
 ],
 "metadata": {
  "kernelspec": {
   "display_name": "Julia 0.6.2",
   "language": "julia",
   "name": "julia-0.6"
  },
  "language_info": {
   "file_extension": ".jl",
   "mimetype": "application/julia",
   "name": "julia",
   "version": "0.6.2"
  }
 },
 "nbformat": 4,
 "nbformat_minor": 2
}
